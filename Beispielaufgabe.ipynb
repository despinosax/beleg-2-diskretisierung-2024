{
 "cells": [
  {
   "cell_type": "markdown",
   "metadata": {},
   "source": [
    "## **Beispielaufgabe**\n",
    "\n",
    "Ein Eimer ist mit Wasser gefüllt, welches über eine kleine (kreisrunde) Düse am Boden ausläuft, siehe folgende Abbildung:\n",
    "\n",
    "![alt text](Abbildungen/beispielaufgabe_problem.png)\n",
    "\n",
    "Die Ausströmgeschwindigkei und damit die Dauer, die es braucht, bis der Eimer leer ist, hängt von der Höhe des Wasserspiegels $h(t)$ im Eimer ab: Je höher der Wasserspiegel, desto größer die Ausströmgeschwindigkeit und desto schneller leert sich der Eimer.\n",
    "\n",
    "Der zeitanhängige Wasserspiegel kann über folgende Differentialgleichung beschrieben werden:\n",
    "\n",
    "$$ \\dfrac{\\text{d}h}{\\text{d}t} = \\dfrac{A_\\text{Düse}}{A_\\text{Eimer}} \\sqrt{2 g} \\cdot \\sqrt{h(t)} $$\n",
    "\n",
    "mit der zeitabhängigen Höhe des Wasserspiegels im Eimer $h(t)$, der Querschnittsfläche der Düse am Ausfluss $A_\\text{Düse}$, der Querschnittsfläche des Eimers $A_\\text{Eimer}$ sowie der Erdbeschleunigung $g$. Als Randbedingungen gelten folgende Werte:\n",
    " - Höhe des Wassereimers: 40 cm\n",
    " - Durchmesser des Wassereimers: 30 cm\n",
    " - Durchmesser des Ausfluss über die Düse: 5 mm\n",
    "\n",
    "Zu Beginn ist der Wassereimer komplett mit Wasser gefüllt.\n",
    "\n",
    "\n",
    "### **Teilaufgaben**\n",
    "\n",
    "1. Diskretisieren Sie die Differentialgleichung mit Hilfe der Vorwärtsdifferenz (1. Ordnung) in der Zeit und implementieren Sie die numerische Lösung dieses Problems in diesem Jupyter Notebook.\n",
    "2. Berechnen Sie die Dauer, bis der Eimer komplett entleert ist und stellen Sie die Ausflusskurve (Wasserspiegel über Zeit) in einem Diagramm dar. Nutzen Sie zur Berechnung eine Zeitschrittweite von 1 s."
   ]
  },
  {
   "cell_type": "markdown",
   "metadata": {},
   "source": [
    "### **Diskretisierung**\n",
    "\n",
    "Das Vorwärtsdifferenzenschema (1. Ordnung) für die Wasserhöhe in Abhängigkeit der Zeit lautet wie folgt:\n",
    "\n",
    "$$ \\dfrac{\\text{d}h}{\\text{d}t} \\approx \\dfrac{h_{n+1} - h_n}{\\Delta t} $$\n",
    "\n",
    "wobei $h_n$ für die Höhe des Wasserspiegels zum aktuellen Zeitschritt steht, $h_{n+1}$ für die Wasserhöhe zum nächsten Zeitschritt und $\\Delta t$ für die Zeitschrittweite zwischen beiden Zeitschritten. Eingesetzt in die Differentialgleichung ergibt sich:\n",
    "\n",
    "$$ \\dfrac{h_{n+1} - h_n}{\\Delta t} = \\dfrac{A_\\text{Düse}}{A_\\text{Eimer}} \\sqrt{2 g} \\cdot \\sqrt{h_n} $$\n",
    "\n",
    "Zu beachten hier ist, dass die Höhe des Wasserspiegels auf der rechten Seite der Gleichung am aktuellen Zeitschritt $h_n$ ist und damit die Gleichung explizit für den nächsten Zeitschritt gelöst werden kann. Umgestellt zu dem Wasserspiegel zum nächsten Zeitschritt ergibt sich:\n",
    "\n",
    "$$ h_{n+1} = - \\dfrac{A_\\text{Düse}}{A_\\text{Eimer}} \\sqrt{2 g} \\cdot \\sqrt{h_n} \\, \\Delta t + h_n $$\n",
    "\n",
    "Mit dieser Gleichung lässt sich nun die Höhe des Wasserspiegels zu einem nächsten Zeitpunkt $h_{n+1}$ berechnen, wenn die Wasserhöhe zum aktuellen Zeitpunkt $h_n$ bekannt ist.\n",
    "\n",
    "Zu Beginn der Berechnung muss ein Anfangswert für die Wasserhöhe $h_0$ vorgegeben werden, damit der Wasserspiegel für den nächsten (d.h. ersten) Zeitschritt $h_1$ berechnet werden kann. Bekannt ist, dass der Wassereimer zu Beginn komplett mit Wasser gefüllt ist. Daher gilt für den Wasserspiehel zum nullten Zeitschritt $h_0 = 40\\,\\text{cm}$."
   ]
  },
  {
   "cell_type": "markdown",
   "metadata": {},
   "source": [
    "### **Implementierung**\n",
    "\n",
    "Zunächst werden zwei zusätzliche Bibliotheken geladen: (1) Die Wurzel-Funktion aus dem `math` Modul und (2) Matplotlib zur Erstellung von Diagrammen."
   ]
  },
  {
   "cell_type": "code",
   "execution_count": null,
   "metadata": {},
   "outputs": [],
   "source": [
    "# Laden der Module\n",
    "from math import sqrt\n",
    "import matplotlib.pyplot as plt"
   ]
  },
  {
   "cell_type": "markdown",
   "metadata": {},
   "source": [
    "Anschließend wird eine Funktion geschrieben, welche den Wasserstand in Abhängigkeit vom Zeitschritt berechnet. Dazu werden zunächst zwei Listen erstellt: (1) Die Liste `wasserstand` speichert den Wasserstand des Eimers für alle Zeitschritte. Diese Liste enthält Anfangs nur den Startwert von 40 cm, d.h. der Eimerhöhe. (2) Die Liste `zeit` enthält alle Zeitpunkte, an denen der Wasserstand berechnet wird und speichert anfangs nur den Startzeitpunkt von Null."
   ]
  },
  {
   "cell_type": "code",
   "execution_count": null,
   "metadata": {},
   "outputs": [],
   "source": [
    "def berechnung_wasserstand(hoehe_eimer, durchmesser_eimer, durchmesser_duese, zeitschritt, g=9.81):\n",
    "    '''\n",
    "    Numerische Berechnung der diskretisierten Gleichung eines auslaufenden Eimers\n",
    "    \n",
    "    hoehe_eimer         -> Hoehe des Eimers (entspricht Starthoehe des Wasserspiegels) [m]\n",
    "    durchmesser_eimer   -> Druchmesser des Eimers [m]\n",
    "    durchmesser_duese   -> Durchmesser der Duese [m]\n",
    "    zeitschritt         -> Zeitschrittweise [s]\n",
    "    g                   -> Erdbeschleunigung [m/s2]\n",
    "    '''\n",
    "\n",
    "    # Wasserspiegel (als Funktion der Zeit) in einer Liste gespeichert\n",
    "    # mit dem Startwert der Hoehe des Eimers\n",
    "    wasserstand = [hoehe_eimer]\n",
    "\n",
    "    # Zeitpunkte als Liste gespeichert mit Nulltem Zeitpunkt als Startwert\n",
    "    zeit = [0]\n",
    "\n",
    "    # Schleife ueber Zeit t: Berechne den Wassserstand für den nächsten Zeitschritt,\n",
    "    # solang der Wasserspiegel groesser als Null ist\n",
    "    while wasserstand[-1] > 0:\n",
    "\t\t\n",
    "        # Berechnung der neuen Hoehe fuer den naechsten Zeitschritt (n+1)\n",
    "        # und anfuegen des Ergebnis an die Liste des Wasserspiegels\n",
    "        neuer_wasserstand = -durchmesser_duese**2 / durchmesser_eimer**2 * zeitschritt * sqrt(2*g) * sqrt(wasserstand[-1]) + wasserstand[-1]\n",
    "        wasserstand.append(neuer_wasserstand)\n",
    "\t\t\n",
    "        # Berechne die aktuelle Zeit und fuege sie der Zeitliste hinzu\n",
    "        zeit.append(zeit[-1] + zeitschritt)\n",
    "\n",
    "    return zeit, wasserstand"
   ]
  },
  {
   "cell_type": "markdown",
   "metadata": {},
   "source": [
    "Nach der Implementierung der eigentlichen Berechnungsfunktion können die Parameter der Simulation als Variablen angelegt werden und die Berechnungsfunktion ausgeführt werden:"
   ]
  },
  {
   "cell_type": "code",
   "execution_count": null,
   "metadata": {},
   "outputs": [],
   "source": [
    "hoehe_eimer = 0.40\n",
    "durchmesser_eimer = 0.30\n",
    "durchmesser_duese = 0.005\n",
    "\n",
    "# Zeitschrittweite in Sekunden\n",
    "zeitschritt = 1\n",
    "\n",
    "zeit, wassserstand = berechnung_wasserstand(hoehe_eimer, durchmesser_eimer, durchmesser_duese, zeitschritt)"
   ]
  },
  {
   "cell_type": "markdown",
   "metadata": {},
   "source": [
    "Aus der Liste der Zeitpunkte `zeit` lässt sich anschließend das letzte Element nutzen, um die Ausflussdauer auszugeben:"
   ]
  },
  {
   "cell_type": "code",
   "execution_count": null,
   "metadata": {},
   "outputs": [],
   "source": [
    "print(\"Der Eimer ist nach {:.0f} s leer.\".format(zeit[-1]))"
   ]
  },
  {
   "cell_type": "markdown",
   "metadata": {},
   "source": [
    "Zum Abschluss wird der Wasserspiegel als Funktion der Zeit in einem Diagramm dargestellt:"
   ]
  },
  {
   "cell_type": "code",
   "execution_count": null,
   "metadata": {},
   "outputs": [],
   "source": [
    "# Darstellen der Listen 'zeit' und 'numerische_loesung' in einem Diagramm\n",
    "plt.plot(\n",
    "    zeit,\n",
    "    wassserstand,\n",
    "    label=\"Numerische Lösung\",\n",
    "    linewidth=2)\n",
    "\n",
    "plt.title(\"Höhe Wasserstand in einem auslaufenden Eimer\")\n",
    "\n",
    "plt.xlabel(\"Zeit [s]\")\n",
    "plt.ylabel(\"Wasserstand [m]\")\n",
    "\n",
    "plt.grid(linewidth=0.5)\n",
    "plt.legend()\n",
    "\n",
    "plt.show()"
   ]
  }
 ],
 "metadata": {
  "kernelspec": {
   "display_name": "Python 3",
   "language": "python",
   "name": "python3"
  },
  "language_info": {
   "codemirror_mode": {
    "name": "ipython",
    "version": 3
   },
   "file_extension": ".py",
   "mimetype": "text/x-python",
   "name": "python",
   "nbconvert_exporter": "python",
   "pygments_lexer": "ipython3",
   "version": "3.11.2"
  }
 },
 "nbformat": 4,
 "nbformat_minor": 2
}
