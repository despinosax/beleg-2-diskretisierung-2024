{
 "cells": [
  {
   "cell_type": "markdown",
   "metadata": {},
   "source": [
    "## **Aufgabe 4 - Freier Fall mit Reibung**\n",
    "\n",
    "Felix Baumgartner ist im Jahr 2012 aus einer Höhe von ca. 39 km abgesprungen und hat dabei eine Maximalgeschwindigeit von 1358 km/h erreicht. Sein freier Falls kann dabei als ein stark vereinfachtes physikalisches Modell betrachtet werden, indem der Springer nur als Massenpunkt beschrieben wird und dabei eine eindimensionale Bewegung durchläuft.\n",
    "\n",
    "Auf den Springer wirken zwei Kräfte: Die Schwerkraft $F_G$ sowie die Luftreibungskraft $F_R$. Solange die Anfangshöhe des Springers sehr viel kleiner als der Erdradius ist, kann man davon ausgehen, dass die Schwerkraft $F_G$ konstant ist und durch\n",
    "\n",
    "$$ F_G = m g $$\n",
    "\n",
    "beschrieben wird mit der Masse des Springers $m$ und der Erdbeschleunigung $g$. Die Luftreibungskraft $F_R$ kann in guter Näherung durch folgende Gleichung bestimmt werden:\n",
    "\n",
    "$$ F_R = \\dfrac{1}{2} c_w \\rho A v^2 $$\n",
    "\n",
    "mit dem Widerstandsbeiwert $c_w$ und der Stirnfläche des Springers $A$, der Fallgeschwindigkeit $v$ sowie der Luftdichte $\\rho$. Letztere nimmt mit der Höhe ab. Zur Beschreibung dieser Abhängigkeit verwendet man häufig die isotherme baro-metrische Höhenformel:\n",
    "\n",
    "$$ \\rho(y) = \\rho_0 e^{-y/h_0} $$\n",
    "\n",
    "wobei $y$ für die Fallhöhe steht, $\\rho_0$ für die Luftdichte am Erdboden und $h_0 = 8400\\,\\text{m}$ für die Skalenhöhe.\n",
    "\n",
    "Basierend auf den wirkenden Kräften kann die Bewegung des Springers über folgende Differentialgleichung beschrieben werden:\n",
    "\n",
    "$$ m \\dot{v} = - m g + \\dfrac{1}{2} c_w \\rho A v^2 $$\n",
    "\n",
    "Die physikalischen Parameter des gegebenen Systems lauten wie folgt:\n",
    " - Masse des Springers: $m = 90\\,\\text{kg}$\n",
    " - Produkt aus Widerstandsbeiwert und Stirnfläche: $c_w A = 0{,}47\\,\\text{m}^2$\n",
    " - Luftdichte am Erdboden: $\\rho_0 = 1{,}225\\,\\text{kg/m}^3$\n",
    "\n",
    "Für die Anfangsbedingungen gilt, dass der Springer aus einer Höhe von $y(0) = 38\\,045\\,\\text{m}$ abspringt und in Ruhe startet, d.h. $v(0) = 0\\,\\text{m/s}$.\n",
    "\n",
    "\n",
    "### **Teilaufgaben**\n",
    "\n",
    "  1. Diskretisieren Sie die Differentialgleichung unter Verwendung der Vorwärtsdifferenz (1. Ordnung) in der Zeit. Stellen Sie die diskretisierte Gleichung im Jupyter Notebook dar.\n",
    "  2. Berechnen Sie die zeitabhängige Fallgeschwindigkeit des Springer für $300\\,\\text{s}$ nach dem Absprung für die zwei unterschiedliche Konfigurationen: (1) Verwendung einer konstanten Luftdichte $\\rho_0$, und (2) Nutzung der höhenabhängige Luftdichte $\\rho(y)$ nach der isothermen baro-metrischen Höhenformel. Nutzen Sie dabei eine Zeitschrittweite von $\\Delta t = 0{,}1\\,\\text{s}$. Wie groß ist jeweils die maximale Fallgeschwindigkeit?\n",
    "  3. Stellen Sie jeweils Fallgeschwindigkeit und Fallhöhe über der Zeit dar für beide Konfigurationen."
   ]
  },
  {
   "cell_type": "markdown",
   "metadata": {},
   "source": [
    "### **Hinweis**\n",
    "\n",
    "Der Algorithmus zur Lösung der Aufgabe ist für jeden Zeitschritt zweigeteilt: (1) Zunächst wird mit Hilfe der diskretisierten Differentialgleichung der wirkenden Kräfte die Geschwindigkeit für den nächsten Zeitschritt berechnet. (2) Anschließend wird die neue Höhe des Springers über die Ableitung des Ortes nach der Zeit bestimmt:\n",
    "\n",
    "$$ v(t) = \\dot{y}(t) = \\dfrac{\\partial y}{\\partial t} $$\n",
    "\n",
    "mit der Fallhöhe $y(t)$."
   ]
  },
  {
   "cell_type": "markdown",
   "metadata": {},
   "source": [
    "## =================================================================================\n",
    "\n",
    "### Teilaufgabe 1: Diskretisierung der Differentialgleichungen\n",
    "\n",
    "+ Um die Differentialgleichung der Aufgabe zu diskretisieren, verwenden wir die Vorwärtsdifferenz, indem wir diese Schritte befolgen:\n",
    "\n",
    "$$ m \\dot{v} = - m g + \\dfrac{1}{2} c_w \\rho A v^2 $$\n",
    "\n",
    "1. Wir teilen alles durch ${m}$. Was bleibt, ist die Ableitung von $\\dot{v}$ nach der Zeit.\n",
    "\n",
    "$$\n",
    "\\dot{v} = -g + \\frac{1}{2m} c_w \\rho A v^2\n",
    "$$\n",
    "\n",
    "2. Die Ableitung von $\\dot{v}$ wird angenähert als:\n",
    "\n",
    "$$\n",
    "\\dot{v} \\approx \\frac{v_{i+1} - v_i}{\\Delta t}\n",
    "$$\n",
    "\n",
    "+ $v_{i+1}$: Geschwindigkeit im nächsten Zeitschritt.\n",
    "+ $v_i$: Geschwindigkeit im aktuellen Zeitschritt.\n",
    "+ $\\Delta t$: Zeitschritt.\n",
    "\n",
    "\n",
    "Indem wir diese Annäherung in die Gleichung einsetzen:\n",
    "\n",
    "$$\n",
    "\\frac{v_{i+1} - v_i}{\\Delta t} = -g + \\frac{1}{2m} c_w \\rho A v_i^2\n",
    "$$\n",
    "\n",
    "3. Dies ist die diskretisierte Gleichung zur Berechnung der Geschwindigkeit im nächsten Zeitschritt $v_{i+1}$\n",
    "\n",
    "$$\n",
    "v_{i+1} = v_i + \\left( -g + \\frac{1}{2m} c_w \\rho A v_i^2 \\right) \\Delta t\n",
    "$$\n",
    "\n",
    "4. Um die Höhe $𝑦$ zu aktualisieren, verwenden wir die Beziehung zwischen Geschwindigkeit und Position:\n",
    "\n",
    "$$\n",
    "\\dot{y} = -v\n",
    "$$\n",
    "\n",
    "Wir approximieren $\\dot{y}$ mit Vorwärtsdifferenzen:\n",
    "\n",
    "$$\n",
    "y_{i+1} = y_i - v_{i+1} \\Delta t\n",
    "$$\n",
    "\n",
    "5. Handhabung der Luftdichte $\\rho$:\n",
    "\n",
    "+ Für konstante Dichte:\n",
    "  $$\n",
    "  \\rho = \\rho_0\n",
    "  $$\n",
    "\n",
    "+ Für höhenabhängige Dichte $\\rho(y)$:\n",
    "  $$\n",
    "  \\rho(y) = \\rho_0 e^{-y/h_0}\n",
    "  $$\n",
    "\n",
    "Dies wurde im Luftwiderstandsterm $\\frac{1}{2} c_w \\rho A v^2$ ersetzt.\n",
    "\n",
    "6. Endergebnis:\n",
    "\n",
    "+ Geschwindigkeit $v_{i+1}$:\n",
    "   $$\n",
    "   v_{i+1} = v_i + \\left( -g + \\frac{1}{2m} c_w \\rho A v_i^2 \\right) \\Delta t\n",
    "   $$\n",
    "\n",
    "+ Höhe $y_{i+1}$:\n",
    "   $$\n",
    "   y_{i+1} = y_i - v_{i+1} \\Delta t\n",
    "   $$\n"
   ]
  },
  {
   "cell_type": "markdown",
   "metadata": {},
   "source": [
    "## Vollständiger Code"
   ]
  },
  {
   "cell_type": "code",
   "execution_count": null,
   "metadata": {},
   "outputs": [],
   "source": [
    "import numpy as np\n",
    "import matplotlib.pyplot as plt\n",
    "\n",
    "# Physikalische Parameter\n",
    "m = 90  # Masse in kg\n",
    "g = 9.81  # Erdbeschleunigung in m/s^2\n",
    "cw_A = 0.47  # Produkt aus Widerstandsbeiwert und Stirnfläche in m^2\n",
    "rho_0 = 1.225  # Luftdichte am Erdboden in kg/m^3\n",
    "h_0 = 8400  # Skalenhöhe in m\n",
    "\n",
    "# Anfangsbedingungen\n",
    "y_0 = 38045  # Anfangshöhe in m\n",
    "v_0 = 0  # Anfangsgeschwindigkeit in m/s\n",
    "\n",
    "# Zeitschrittweite und Zeitspanne\n",
    "delta_t = 0.1  # Zeitschrittweite in s\n",
    "t_max = 300  # maximale Zeit in s\n",
    "n_steps = int(t_max / delta_t)  # Anzahl der Zeitschritte\n",
    "\n",
    "# Initialisierung der Arrays für Höhe, Geschwindigkeit und Zeit\n",
    "zeit = np.linspace(0, t_max, n_steps)\n",
    "hoehe_konstant = np.zeros(n_steps)\n",
    "geschwindigkeit_konstant = np.zeros(n_steps)\n",
    "hoehe_variabel = np.zeros(n_steps)\n",
    "geschwindigkeit_variabel = np.zeros(n_steps)\n",
    "\n",
    "# Anfangswerte setzen\n",
    "hoehe_konstant[0] = y_0\n",
    "geschwindigkeit_konstant[0] = v_0\n",
    "hoehe_variabel[0] = y_0\n",
    "geschwindigkeit_variabel[0] = v_0\n",
    "\n",
    "# Teilaufgabe 1: Diskretisierung der Differentialgleichung (Vorwärtsdifferenz)\n",
    "# Die folgende Diskretisierung wird in den Schleifen unten umgesetzt\n",
    "\n",
    "# Simulation mit konstanter Luftdichte (Teilaufgabe 2 - Konfiguration 1)\n",
    "for i in range(1, n_steps):\n",
    "    F_G = m * g\n",
    "    F_R = 0.5 * cw_A * rho_0 * geschwindigkeit_konstant[i - 1]**2\n",
    "    beschleunigung = (F_G - F_R) / m\n",
    "    geschwindigkeit_konstant[i] = geschwindigkeit_konstant[i - 1] + beschleunigung * delta_t\n",
    "    hoehe_konstant[i] = hoehe_konstant[i - 1] - geschwindigkeit_konstant[i] * delta_t\n",
    "\n",
    "# Simulation mit höhenabhängiger Luftdichte (Teilaufgabe 2 - Konfiguration 2)\n",
    "for i in range(1, n_steps):\n",
    "    rho_y = rho_0 * np.exp(-hoehe_variabel[i - 1] / h_0)\n",
    "    F_G = m * g\n",
    "    F_R = 0.5 * cw_A * rho_y * geschwindigkeit_variabel[i - 1]**2\n",
    "    beschleunigung = (F_G - F_R) / m\n",
    "    geschwindigkeit_variabel[i] = geschwindigkeit_variabel[i - 1] + beschleunigung * delta_t\n",
    "    hoehe_variabel[i] = hoehe_variabel[i - 1] - geschwindigkeit_variabel[i] * delta_t\n",
    "\n",
    "# Maximale Fallgeschwindigkeiten berechnen (Teilaufgabe 2)\n",
    "max_geschwindigkeit_konstant = np.max(geschwindigkeit_konstant)\n",
    "max_geschwindigkeit_variabel = np.max(geschwindigkeit_variabel)\n",
    "\n",
    "print(\"Maximale Fallgeschwindigkeit mit konstanter Luftdichte:\", max_geschwindigkeit_konstant, \"m/s\")\n",
    "print(\"Maximale Fallgeschwindigkeit mit höhenabhängiger Luftdichte:\", max_geschwindigkeit_variabel, \"m/s\")\n",
    "\n",
    "# Teilaufgabe 3: Ergebnisse plotten\n",
    "# Fallgeschwindigkeit über der Zeit\n",
    "plt.figure()\n",
    "plt.plot(zeit, geschwindigkeit_konstant, label=\"Konstante Luftdichte\")\n",
    "plt.plot(zeit, geschwindigkeit_variabel, label=\"Höhenabhängige Luftdichte\")\n",
    "plt.xlabel(\"Zeit (s)\")\n",
    "plt.ylabel(\"Geschwindigkeit (m/s)\")\n",
    "plt.legend()\n",
    "plt.title(\"Fallgeschwindigkeit über der Zeit\")\n",
    "plt.show()\n",
    "\n",
    "# Fallhöhe über der Zeit\n",
    "plt.figure()\n",
    "plt.plot(zeit, hoehe_konstant, label=\"Konstante Luftdichte\")\n",
    "plt.plot(zeit, hoehe_variabel, label=\"Höhenabhängige Luftdichte\")\n",
    "plt.xlabel(\"Zeit (s)\")\n",
    "plt.ylabel(\"Höhe (m)\")\n",
    "plt.legend()\n",
    "plt.title(\"Fallhöhe über der Zeit\")\n",
    "plt.show()\n"
   ]
  },
  {
   "cell_type": "markdown",
   "metadata": {},
   "source": [
    "## Trennung und schrittweise Erläuterung des Codes."
   ]
  },
  {
   "cell_type": "markdown",
   "metadata": {},
   "source": [
    "### 1. Bibliotheken importieren"
   ]
  },
  {
   "cell_type": "code",
   "execution_count": null,
   "metadata": {},
   "outputs": [],
   "source": [
    "import numpy as np\n",
    "import matplotlib.pyplot as plt"
   ]
  },
  {
   "cell_type": "markdown",
   "metadata": {},
   "source": [
    "### 2. Physikalische Parameter\n",
    "\n",
    "Die folgenden Parameter und Konstante definieren die physikalischen Eigenschaften des Systems:"
   ]
  },
  {
   "cell_type": "code",
   "execution_count": null,
   "metadata": {},
   "outputs": [],
   "source": [
    "m = 90  # Masse in kg\n",
    "g = 9.81  # Erdbeschleunigung in m/s^2\n",
    "cw_A = 0.47  # Produkt aus Widerstandsbeiwert und Stirnfläche in m^2\n",
    "rho_0 = 1.225  # Luftdichte am Erdboden in kg/m^3\n",
    "h_0 = 8400  # Skalenhöhe in m"
   ]
  },
  {
   "cell_type": "markdown",
   "metadata": {},
   "source": [
    "### 3. Anfangsbedingungen"
   ]
  },
  {
   "cell_type": "code",
   "execution_count": null,
   "metadata": {},
   "outputs": [],
   "source": [
    "y_0 = 38045  # Anfangshöhe in m\n",
    "v_0 = 0  # Anfangsgeschwindigkeit in m/s"
   ]
  },
  {
   "cell_type": "markdown",
   "metadata": {},
   "source": [
    "### 4. Zeitschrittweite und Zeitspanne"
   ]
  },
  {
   "cell_type": "code",
   "execution_count": null,
   "metadata": {},
   "outputs": [],
   "source": [
    "delta_t = 0.1  # Zeitschrittweite in s\n",
    "t_max = 300  # maximale Zeit in s\n",
    "n_steps = int(t_max / delta_t)  # Anzahl der Zeitschritte"
   ]
  },
  {
   "cell_type": "markdown",
   "metadata": {},
   "source": [
    "### 5. Initialisierung der Arrays für Höhe, Geschwindigkeit und Zeit"
   ]
  },
  {
   "cell_type": "code",
   "execution_count": null,
   "metadata": {},
   "outputs": [],
   "source": [
    "zeit = np.linspace(0, t_max, n_steps) # Erstellung eines Arrays für die Zeitpunkte von 0 bis t_max mit n_steps Werten\n",
    "\n",
    "hoehe_konstant = np.zeros(n_steps )# Erstellung eines Arrays für die Höhe bei konstanter Luftdichte, gefüllt mit Nullen\n",
    "\n",
    "geschwindigkeit_konstant = np.zeros(n_steps) # Erstellung eines Arrays für die Geschwindigkeit bei konstanter Luftdichte, gefüllt mit Nullen\n",
    "\n",
    "hoehe_variabel = np.zeros(n_steps) # Erstellung eines Arrays für die Höhe bei höhenabhängiger Luftdichte, gefüllt mit Nullen\n",
    "\n",
    "geschwindigkeit_variabel = np.zeros(n_steps) # Erstellung eines Arrays für die Geschwindigkeit bei höhenabhängiger Luftdichte, gefüllt mit Nullen\n"
   ]
  },
  {
   "cell_type": "markdown",
   "metadata": {},
   "source": [
    "### 6. Anfangswerte setzen"
   ]
  },
  {
   "cell_type": "code",
   "execution_count": null,
   "metadata": {},
   "outputs": [],
   "source": [
    "hoehe_konstant[0] = y_0 # Anfangshöhe bei konstanter Luftdichte\n",
    "geschwindigkeit_konstant[0] = v_0 # Anfangsgeschwindigkeit bei konstanter Luftdichte\n",
    "hoehe_variabel[0] = y_0 # Anfangshöhe bei höhenabhängiger Luftdichte\n",
    "geschwindigkeit_variabel[0] = v_0 # Anfangsgeschwindigkeit bei höhenabhängiger Luftdichte"
   ]
  },
  {
   "cell_type": "markdown",
   "metadata": {},
   "source": [
    "### 7. Teilaufgabe 2: Simulation mit konstanter Luftdichte (konfiguration 1)"
   ]
  },
  {
   "cell_type": "code",
   "execution_count": null,
   "metadata": {},
   "outputs": [],
   "source": [
    "for i in range(1, n_steps):\n",
    "    F_G = m * g # Gewichtskraft in N\n",
    "    F_R = 0.5 * cw_A * rho_0 * geschwindigkeit_konstant[i - 1]**2 # Luftreibungskraft in N\n",
    "    beschleunigung = (F_G - F_R) / m # Beschleunigung in m/s²\n",
    "    geschwindigkeit_konstant[i] = geschwindigkeit_konstant[i - 1] + beschleunigung * delta_t # Neue Geschwindigkeit = alte Geschwindigkeit + Beschleunigung * Zeitschritt\n",
    "    hoehe_konstant[i] = hoehe_konstant[i - 1] - geschwindigkeit_konstant[i] * delta_t # Neue Höhe = alte Höhe - neue Geschwindigkeit * Zeitschritt\n"
   ]
  },
  {
   "cell_type": "markdown",
   "metadata": {},
   "source": [
    "### 8. Teilaufgabe 2: Simulation mit höhenabhängiger Luftdichte (Konfiguration 2)"
   ]
  },
  {
   "cell_type": "code",
   "execution_count": null,
   "metadata": {},
   "outputs": [],
   "source": [
    "for i in range(1, n_steps):\n",
    "    rho_y = rho_0 * np.exp(-hoehe_variabel[i - 1] / h_0) # höhenabhängige Luftdichte in kg/m³\n",
    "    F_G = m * g # Gewichtskraft\n",
    "    F_R = 0.5 * cw_A * rho_y * geschwindigkeit_variabel[i - 1]**2 # Luftreibungskraft in N\n",
    "    beschleunigung = (F_G - F_R) / m # Beschleunigung\n",
    "    geschwindigkeit_variabel[i] = geschwindigkeit_variabel[i - 1] + beschleunigung * delta_t # Neue Geschwindigkeit = alte Geschwindigkeit + Beschleunigung * Zeitschritt\n",
    "    hoehe_variabel[i] = hoehe_variabel[i - 1] - geschwindigkeit_variabel[i] * delta_t # Neue Höhe = alte Höhe - neue Geschwindigkeit * Zeitschritt"
   ]
  },
  {
   "cell_type": "markdown",
   "metadata": {},
   "source": [
    "### 9. (auch Teilaufgabe 2) Maximale Fallgeschwindigkeiten berechnen "
   ]
  },
  {
   "cell_type": "code",
   "execution_count": null,
   "metadata": {},
   "outputs": [],
   "source": [
    "max_geschwindigkeit_konstant = np.max(geschwindigkeit_konstant)\n",
    "max_geschwindigkeit_variabel = np.max(geschwindigkeit_variabel)\n",
    "\n",
    "print(f\"Maximale Fallgeschwindigkeit mit konstanter Luftdichte: {max_geschwindigkeit_konstant:.3f} m/s\")\n",
    "print(f\"Maximale Fallgeschwindigkeit mit höhenabhängiger Luftdichte: {max_geschwindigkeit_variabel:.3f} m/s\")\n"
   ]
  },
  {
   "cell_type": "markdown",
   "metadata": {},
   "source": [
    "## Teilaufgabe 3: Ergebnisse plotten\n",
    "### 10. Fallgeschwindigkeit über der Zeit"
   ]
  },
  {
   "cell_type": "code",
   "execution_count": null,
   "metadata": {},
   "outputs": [],
   "source": [
    "plt.figure()\n",
    "plt.plot(zeit, geschwindigkeit_konstant, label=\"Konstante Luftdichte\")\n",
    "plt.plot(zeit, geschwindigkeit_variabel, label=\"Höhenabhängige Luftdichte\")\n",
    "plt.xlabel(\"Zeit (s)\")\n",
    "plt.ylabel(\"Geschwindigkeit (m/s)\")\n",
    "plt.legend()\n",
    "plt.title(\"Fallgeschwindigkeit über der Zeit\")\n",
    "plt.show()"
   ]
  },
  {
   "cell_type": "markdown",
   "metadata": {},
   "source": [
    "### 11. Fallhöhe über der Zeit"
   ]
  },
  {
   "cell_type": "code",
   "execution_count": null,
   "metadata": {},
   "outputs": [],
   "source": [
    "plt.figure()\n",
    "plt.plot(zeit, hoehe_konstant, label=\"Konstante Luftdichte\")\n",
    "plt.plot(zeit, hoehe_variabel, label=\"Höhenabhängige Luftdichte\")\n",
    "plt.xlabel(\"Zeit (s)\")\n",
    "plt.ylabel(\"Höhe (m)\")\n",
    "plt.legend()\n",
    "plt.title(\"Fallhöhe über der Zeit\")\n",
    "plt.show()"
   ]
  }
 ],
 "metadata": {
  "kernelspec": {
   "display_name": "base",
   "language": "python",
   "name": "python3"
  },
  "language_info": {
   "codemirror_mode": {
    "name": "ipython",
    "version": 3
   },
   "file_extension": ".py",
   "mimetype": "text/x-python",
   "name": "python",
   "nbconvert_exporter": "python",
   "pygments_lexer": "ipython3",
   "version": "3.11.5"
  }
 },
 "nbformat": 4,
 "nbformat_minor": 2
}
